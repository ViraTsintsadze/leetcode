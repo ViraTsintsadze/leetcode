{
 "cells": [
  {
   "cell_type": "markdown",
   "id": "3de3319b",
   "metadata": {},
   "source": [
    "### 923. 3Sum With Multiplicity\n",
    "Given an integer array arr, and an integer target, return the number of tuples i, j, k such that i < j < k and arr[i] + arr[j] + arr[k] == target.\n",
    "\n",
    "As the answer can be very large, return it modulo 109 + 7.\n",
    "\n",
    " \n",
    "\n",
    "##### Example 1:\n",
    "\n",
    "Input: arr = [1,1,2,2,3,3,4,4,5,5], target = 8\n",
    "Output: 20\n",
    "Explanation: \n",
    "Enumerating by the values (arr[i], arr[j], arr[k]):\n",
    "(1, 2, 5) occurs 8 times;\n",
    "(1, 3, 4) occurs 8 times;\n",
    "(2, 2, 4) occurs 2 times;\n",
    "(2, 3, 3) occurs 2 times.\n",
    "\n",
    "##### Example 2:\n",
    "\n",
    "Input: arr = [1,1,2,2,2,2], target = 5\n",
    "Output: 12\n",
    "Explanation: \n",
    "arr[i] = 1, arr[j] = arr[k] = 2 occurs 12 times:\n",
    "We choose one 1 from [1,1] in 2 ways,\n",
    "and two 2s from [2,2,2,2] in 6 ways.\n",
    "\n",
    " \n",
    "\n",
    "##### Constraints:\n",
    "\n",
    "    3 <= arr.length <= 3000\n",
    "    0 <= arr[i] <= 100\n",
    "    0 <= target <= 300\n",
    "\n"
   ]
  },
  {
   "cell_type": "code",
   "execution_count": 35,
   "id": "c323a650",
   "metadata": {},
   "outputs": [],
   "source": [
    "arr = [1,1,2,2,3,3,4,4,5,5]\n",
    "target = 8\n",
    "M = 1000000007"
   ]
  },
  {
   "cell_type": "code",
   "execution_count": 53,
   "id": "236d3c56",
   "metadata": {},
   "outputs": [
    {
     "name": "stdout",
     "output_type": "stream",
     "text": [
      "[[1, 2, 5], [1, 2, 5], [1, 2, 5], [1, 2, 5], [1, 3, 4], [1, 3, 4], [1, 3, 4], [1, 3, 4], [1, 2, 5], [1, 2, 5], [1, 2, 5], [1, 2, 5], [1, 3, 4], [1, 3, 4], [1, 3, 4], [1, 3, 4], [2, 2, 4], [2, 2, 4], [2, 3, 3], [2, 3, 3]]\n"
     ]
    }
   ],
   "source": [
    "s = len(arr)\n",
    "arr_of_targ_arrs = []\n",
    "\n",
    "for i in range(s):\n",
    "    for j in range(i+1,s):\n",
    "        for k in range (j+1,s):\n",
    "            if (arr[i]+arr[j]+arr[k]) == target:\n",
    "                targeted_triple = [arr[i],arr[j],arr[k]]\n",
    "                arr_of_targ_arrs.append(targeted_triple)\n",
    "print(arr_of_targ_arrs)"
   ]
  },
  {
   "cell_type": "code",
   "execution_count": 52,
   "id": "1a014f08",
   "metadata": {},
   "outputs": [
    {
     "data": {
      "text/plain": [
       "20"
      ]
     },
     "execution_count": 52,
     "metadata": {},
     "output_type": "execute_result"
    }
   ],
   "source": [
    "len(arr_of_targ_arrs)"
   ]
  },
  {
   "cell_type": "markdown",
   "id": "03036b62",
   "metadata": {},
   "source": [
    "for submission:"
   ]
  },
  {
   "cell_type": "code",
   "execution_count": null,
   "id": "d8cb783e",
   "metadata": {},
   "outputs": [],
   "source": [
    "class Solution:\n",
    "    def threeSumMulti(self, arr: List[int], target: int) -> int:\n",
    "        M = 1000000007\n",
    "        s = len(arr)\n",
    "        arr_of_targ_arrs = []\n",
    "\n",
    "        for i in range(s):\n",
    "            for j in range(i+1,s):\n",
    "                for k in range (j+1,s):\n",
    "                    if (arr[i]+arr[j]+arr[k]) == target:\n",
    "                        targeted_triple = [arr[i],arr[j],arr[k]]\n",
    "                        arr_of_targ_arrs.append(targeted_triple)\n",
    "\n",
    "        return len(arr_of_targ_arrs)%M\n",
    "        "
   ]
  }
 ],
 "metadata": {
  "kernelspec": {
   "display_name": "Python 3",
   "language": "python",
   "name": "python3"
  },
  "language_info": {
   "codemirror_mode": {
    "name": "ipython",
    "version": 3
   },
   "file_extension": ".py",
   "mimetype": "text/x-python",
   "name": "python",
   "nbconvert_exporter": "python",
   "pygments_lexer": "ipython3",
   "version": "3.8.8"
  }
 },
 "nbformat": 4,
 "nbformat_minor": 5
}
